{
 "cells": [
  {
   "cell_type": "code",
   "execution_count": 2,
   "id": "348e6783",
   "metadata": {},
   "outputs": [],
   "source": [
    "import pandas as pd\n",
    "import numpy as np\n",
    "import matplotlib.pyplot as plt\n",
    "import seaborn as sns\n",
    "import warnings \n",
    "warnings.filterwarnings('ignore')"
   ]
  },
  {
   "cell_type": "code",
   "execution_count": 3,
   "id": "b3650580",
   "metadata": {},
   "outputs": [
    {
     "data": {
      "text/html": [
       "<div>\n",
       "<style scoped>\n",
       "    .dataframe tbody tr th:only-of-type {\n",
       "        vertical-align: middle;\n",
       "    }\n",
       "\n",
       "    .dataframe tbody tr th {\n",
       "        vertical-align: top;\n",
       "    }\n",
       "\n",
       "    .dataframe thead th {\n",
       "        text-align: right;\n",
       "    }\n",
       "</style>\n",
       "<table border=\"1\" class=\"dataframe\">\n",
       "  <thead>\n",
       "    <tr style=\"text-align: right;\">\n",
       "      <th></th>\n",
       "      <th>Order ID</th>\n",
       "      <th>Customer Name</th>\n",
       "      <th>Product Name</th>\n",
       "      <th>Discount</th>\n",
       "      <th>Actual Discount</th>\n",
       "      <th>Sales</th>\n",
       "      <th>Quantity</th>\n",
       "      <th>Category</th>\n",
       "      <th>Sub-Category</th>\n",
       "      <th>Order Date</th>\n",
       "      <th>City</th>\n",
       "      <th>Country</th>\n",
       "      <th>Region</th>\n",
       "      <th>Segment</th>\n",
       "      <th>Ship Date</th>\n",
       "      <th>Days to Ship</th>\n",
       "      <th>Ship Mode</th>\n",
       "      <th>State</th>\n",
       "      <th>Profit</th>\n",
       "    </tr>\n",
       "  </thead>\n",
       "  <tbody>\n",
       "    <tr>\n",
       "      <th>0</th>\n",
       "      <td>BN-2011-7407039</td>\n",
       "      <td>Ruby Patel</td>\n",
       "      <td>Enermax Note Cards, Premium</td>\n",
       "      <td>0.5</td>\n",
       "      <td>22.5</td>\n",
       "      <td>45</td>\n",
       "      <td>3</td>\n",
       "      <td>Office Supplies</td>\n",
       "      <td>Paper</td>\n",
       "      <td>01-01-2013</td>\n",
       "      <td>Stockholm</td>\n",
       "      <td>Sweden</td>\n",
       "      <td>North</td>\n",
       "      <td>Home Office</td>\n",
       "      <td>05-01-2013</td>\n",
       "      <td>4</td>\n",
       "      <td>Economy Plus</td>\n",
       "      <td>Stockholm</td>\n",
       "      <td>-26</td>\n",
       "    </tr>\n",
       "    <tr>\n",
       "      <th>1</th>\n",
       "      <td>AZ-2011-9050313</td>\n",
       "      <td>Summer Hayward</td>\n",
       "      <td>Dania Corner Shelving, Traditional</td>\n",
       "      <td>0.0</td>\n",
       "      <td>0.0</td>\n",
       "      <td>854</td>\n",
       "      <td>7</td>\n",
       "      <td>Furniture</td>\n",
       "      <td>Bookcases</td>\n",
       "      <td>03-01-2013</td>\n",
       "      <td>Southport</td>\n",
       "      <td>United Kingdom</td>\n",
       "      <td>North</td>\n",
       "      <td>Consumer</td>\n",
       "      <td>07-01-2013</td>\n",
       "      <td>4</td>\n",
       "      <td>Economy</td>\n",
       "      <td>England</td>\n",
       "      <td>290</td>\n",
       "    </tr>\n",
       "    <tr>\n",
       "      <th>2</th>\n",
       "      <td>AZ-2011-6674300</td>\n",
       "      <td>Devin Huddleston</td>\n",
       "      <td>Binney &amp; Smith Sketch Pad, Easy-Erase</td>\n",
       "      <td>0.0</td>\n",
       "      <td>0.0</td>\n",
       "      <td>140</td>\n",
       "      <td>3</td>\n",
       "      <td>Office Supplies</td>\n",
       "      <td>Art</td>\n",
       "      <td>04-01-2013</td>\n",
       "      <td>Valence</td>\n",
       "      <td>France</td>\n",
       "      <td>Central</td>\n",
       "      <td>Consumer</td>\n",
       "      <td>08-01-2013</td>\n",
       "      <td>4</td>\n",
       "      <td>Economy</td>\n",
       "      <td>Auvergne-RhÃ´ne-Alpes</td>\n",
       "      <td>21</td>\n",
       "    </tr>\n",
       "    <tr>\n",
       "      <th>3</th>\n",
       "      <td>BN-2011-2819714</td>\n",
       "      <td>Mary Parker</td>\n",
       "      <td>Boston Markers, Easy-Erase</td>\n",
       "      <td>0.5</td>\n",
       "      <td>13.5</td>\n",
       "      <td>27</td>\n",
       "      <td>2</td>\n",
       "      <td>Office Supplies</td>\n",
       "      <td>Art</td>\n",
       "      <td>04-01-2013</td>\n",
       "      <td>Birmingham</td>\n",
       "      <td>United Kingdom</td>\n",
       "      <td>North</td>\n",
       "      <td>Corporate</td>\n",
       "      <td>09-01-2013</td>\n",
       "      <td>5</td>\n",
       "      <td>Economy</td>\n",
       "      <td>England</td>\n",
       "      <td>-22</td>\n",
       "    </tr>\n",
       "    <tr>\n",
       "      <th>4</th>\n",
       "      <td>BN-2011-2819714</td>\n",
       "      <td>Mary Parker</td>\n",
       "      <td>Eldon Folders, Single Width</td>\n",
       "      <td>0.5</td>\n",
       "      <td>8.5</td>\n",
       "      <td>17</td>\n",
       "      <td>2</td>\n",
       "      <td>Office Supplies</td>\n",
       "      <td>Storage</td>\n",
       "      <td>04-01-2013</td>\n",
       "      <td>Birmingham</td>\n",
       "      <td>United Kingdom</td>\n",
       "      <td>North</td>\n",
       "      <td>Corporate</td>\n",
       "      <td>09-01-2013</td>\n",
       "      <td>5</td>\n",
       "      <td>Economy</td>\n",
       "      <td>England</td>\n",
       "      <td>-1</td>\n",
       "    </tr>\n",
       "  </tbody>\n",
       "</table>\n",
       "</div>"
      ],
      "text/plain": [
       "          Order ID     Customer Name                           Product Name  \\\n",
       "0  BN-2011-7407039        Ruby Patel            Enermax Note Cards, Premium   \n",
       "1  AZ-2011-9050313    Summer Hayward     Dania Corner Shelving, Traditional   \n",
       "2  AZ-2011-6674300  Devin Huddleston  Binney & Smith Sketch Pad, Easy-Erase   \n",
       "3  BN-2011-2819714       Mary Parker             Boston Markers, Easy-Erase   \n",
       "4  BN-2011-2819714       Mary Parker            Eldon Folders, Single Width   \n",
       "\n",
       "   Discount  Actual Discount  Sales  Quantity         Category Sub-Category  \\\n",
       "0       0.5             22.5     45         3  Office Supplies        Paper   \n",
       "1       0.0              0.0    854         7        Furniture    Bookcases   \n",
       "2       0.0              0.0    140         3  Office Supplies          Art   \n",
       "3       0.5             13.5     27         2  Office Supplies          Art   \n",
       "4       0.5              8.5     17         2  Office Supplies      Storage   \n",
       "\n",
       "   Order Date        City         Country   Region      Segment   Ship Date  \\\n",
       "0  01-01-2013   Stockholm          Sweden    North  Home Office  05-01-2013   \n",
       "1  03-01-2013   Southport  United Kingdom    North     Consumer  07-01-2013   \n",
       "2  04-01-2013     Valence          France  Central     Consumer  08-01-2013   \n",
       "3  04-01-2013  Birmingham  United Kingdom    North    Corporate  09-01-2013   \n",
       "4  04-01-2013  Birmingham  United Kingdom    North    Corporate  09-01-2013   \n",
       "\n",
       "   Days to Ship     Ship Mode                  State  Profit  \n",
       "0             4  Economy Plus              Stockholm     -26  \n",
       "1             4       Economy                England     290  \n",
       "2             4       Economy  Auvergne-RhÃ´ne-Alpes      21  \n",
       "3             5       Economy                England     -22  \n",
       "4             5       Economy                England      -1  "
      ]
     },
     "execution_count": 3,
     "metadata": {},
     "output_type": "execute_result"
    }
   ],
   "source": [
    "mart=pd.read_csv('Amazing_Mart.csv',encoding='latin1')\n",
    "mart.head()"
   ]
  },
  {
   "cell_type": "code",
   "execution_count": 4,
   "id": "8a54ab57",
   "metadata": {},
   "outputs": [
    {
     "data": {
      "text/plain": [
       "(8045, 19)"
      ]
     },
     "execution_count": 4,
     "metadata": {},
     "output_type": "execute_result"
    }
   ],
   "source": [
    "mart.shape"
   ]
  },
  {
   "cell_type": "code",
   "execution_count": 5,
   "id": "7588c8dd",
   "metadata": {},
   "outputs": [
    {
     "data": {
      "text/html": [
       "<div>\n",
       "<style scoped>\n",
       "    .dataframe tbody tr th:only-of-type {\n",
       "        vertical-align: middle;\n",
       "    }\n",
       "\n",
       "    .dataframe tbody tr th {\n",
       "        vertical-align: top;\n",
       "    }\n",
       "\n",
       "    .dataframe thead th {\n",
       "        text-align: right;\n",
       "    }\n",
       "</style>\n",
       "<table border=\"1\" class=\"dataframe\">\n",
       "  <thead>\n",
       "    <tr style=\"text-align: right;\">\n",
       "      <th></th>\n",
       "      <th>Discount</th>\n",
       "      <th>Actual Discount</th>\n",
       "      <th>Sales</th>\n",
       "      <th>Quantity</th>\n",
       "      <th>Days to Ship</th>\n",
       "      <th>Profit</th>\n",
       "    </tr>\n",
       "  </thead>\n",
       "  <tbody>\n",
       "    <tr>\n",
       "      <th>count</th>\n",
       "      <td>8045.000000</td>\n",
       "      <td>8045.000000</td>\n",
       "      <td>8045.000000</td>\n",
       "      <td>8045.000000</td>\n",
       "      <td>8045.000000</td>\n",
       "      <td>8045.000000</td>\n",
       "    </tr>\n",
       "    <tr>\n",
       "      <th>mean</th>\n",
       "      <td>0.110075</td>\n",
       "      <td>29.800485</td>\n",
       "      <td>291.903170</td>\n",
       "      <td>3.772281</td>\n",
       "      <td>4.006588</td>\n",
       "      <td>35.202237</td>\n",
       "    </tr>\n",
       "    <tr>\n",
       "      <th>std</th>\n",
       "      <td>0.181787</td>\n",
       "      <td>88.827454</td>\n",
       "      <td>485.258616</td>\n",
       "      <td>2.203610</td>\n",
       "      <td>1.740808</td>\n",
       "      <td>178.147747</td>\n",
       "    </tr>\n",
       "    <tr>\n",
       "      <th>min</th>\n",
       "      <td>0.000000</td>\n",
       "      <td>0.000000</td>\n",
       "      <td>3.000000</td>\n",
       "      <td>1.000000</td>\n",
       "      <td>0.000000</td>\n",
       "      <td>-3060.000000</td>\n",
       "    </tr>\n",
       "    <tr>\n",
       "      <th>25%</th>\n",
       "      <td>0.000000</td>\n",
       "      <td>0.000000</td>\n",
       "      <td>48.000000</td>\n",
       "      <td>2.000000</td>\n",
       "      <td>3.000000</td>\n",
       "      <td>1.000000</td>\n",
       "    </tr>\n",
       "    <tr>\n",
       "      <th>50%</th>\n",
       "      <td>0.000000</td>\n",
       "      <td>0.000000</td>\n",
       "      <td>117.000000</td>\n",
       "      <td>3.000000</td>\n",
       "      <td>4.000000</td>\n",
       "      <td>14.000000</td>\n",
       "    </tr>\n",
       "    <tr>\n",
       "      <th>75%</th>\n",
       "      <td>0.100000</td>\n",
       "      <td>22.000000</td>\n",
       "      <td>313.000000</td>\n",
       "      <td>5.000000</td>\n",
       "      <td>5.000000</td>\n",
       "      <td>47.000000</td>\n",
       "    </tr>\n",
       "    <tr>\n",
       "      <th>max</th>\n",
       "      <td>0.850000</td>\n",
       "      <td>1700.000000</td>\n",
       "      <td>6517.000000</td>\n",
       "      <td>14.000000</td>\n",
       "      <td>7.000000</td>\n",
       "      <td>2476.000000</td>\n",
       "    </tr>\n",
       "  </tbody>\n",
       "</table>\n",
       "</div>"
      ],
      "text/plain": [
       "          Discount  Actual Discount        Sales     Quantity  Days to Ship  \\\n",
       "count  8045.000000      8045.000000  8045.000000  8045.000000   8045.000000   \n",
       "mean      0.110075        29.800485   291.903170     3.772281      4.006588   \n",
       "std       0.181787        88.827454   485.258616     2.203610      1.740808   \n",
       "min       0.000000         0.000000     3.000000     1.000000      0.000000   \n",
       "25%       0.000000         0.000000    48.000000     2.000000      3.000000   \n",
       "50%       0.000000         0.000000   117.000000     3.000000      4.000000   \n",
       "75%       0.100000        22.000000   313.000000     5.000000      5.000000   \n",
       "max       0.850000      1700.000000  6517.000000    14.000000      7.000000   \n",
       "\n",
       "            Profit  \n",
       "count  8045.000000  \n",
       "mean     35.202237  \n",
       "std     178.147747  \n",
       "min   -3060.000000  \n",
       "25%       1.000000  \n",
       "50%      14.000000  \n",
       "75%      47.000000  \n",
       "max    2476.000000  "
      ]
     },
     "execution_count": 5,
     "metadata": {},
     "output_type": "execute_result"
    }
   ],
   "source": [
    "mart.describe()"
   ]
  },
  {
   "cell_type": "code",
   "execution_count": 6,
   "id": "377b2658",
   "metadata": {
    "scrolled": false
   },
   "outputs": [
    {
     "data": {
      "text/plain": [
       "Order ID            object\n",
       "Customer Name       object\n",
       "Product Name        object\n",
       "Discount           float64\n",
       "Actual Discount    float64\n",
       "Sales                int64\n",
       "Quantity             int64\n",
       "Category            object\n",
       "Sub-Category        object\n",
       "Order Date          object\n",
       "City                object\n",
       "Country             object\n",
       "Region              object\n",
       "Segment             object\n",
       "Ship Date           object\n",
       "Days to Ship         int64\n",
       "Ship Mode           object\n",
       "State               object\n",
       "Profit               int64\n",
       "dtype: object"
      ]
     },
     "execution_count": 6,
     "metadata": {},
     "output_type": "execute_result"
    }
   ],
   "source": [
    "mart.dtypes"
   ]
  },
  {
   "cell_type": "code",
   "execution_count": 7,
   "id": "33332e25",
   "metadata": {},
   "outputs": [
    {
     "data": {
      "image/png": "[encoded data removed]",
      "text/plain": [
       "<Figure size 720x360 with 2 Axes>"
      ]
     },
     "metadata": {
      "needs_background": "light"
     },
     "output_type": "display_data"
    }
   ],
   "source": [
    "corr=mart.corr()\n",
    "plt.figure(figsize=(10,5))\n",
    "sns.heatmap(corr,vmin=-1,vmax=1,annot=True,fmt='.3f')\n",
    "_=plt.xticks(rotation=90)"
   ]
  },
  {
   "cell_type": "markdown",
   "id": "7e291820",
   "metadata": {},
   "source": [
    "### Handeling Outliers"
   ]
  },
  {
   "cell_type": "code",
   "execution_count": 8,
   "id": "428e02c5",
   "metadata": {},
   "outputs": [
    {
     "data": {
      "image/png": "[encoded data removed]",
      "text/plain": [
       "<Figure size 432x288 with 1 Axes>"
      ]
     },
     "metadata": {
      "needs_background": "light"
     },
     "output_type": "display_data"
    }
   ],
   "source": [
    "f1=mart['Sales'].reset_index()\n",
    "_=plt.hist(f1.Sales)"
   ]
  },
  {
   "cell_type": "code",
   "execution_count": 9,
   "id": "062c5c6c",
   "metadata": {},
   "outputs": [
    {
     "name": "stdout",
     "output_type": "stream",
     "text": [
      "3.0\n",
      "536.0\n"
     ]
    }
   ],
   "source": [
    "min_thresold,max_thresold=mart.Sales.quantile([0,0.85])# Using quantile for handling outliers\n",
    "print(min_thresold)\n",
    "print(max_thresold)"
   ]
  },
  {
   "cell_type": "code",
   "execution_count": 10,
   "id": "f888e966",
   "metadata": {},
   "outputs": [],
   "source": [
    "df_mart=mart[(mart.Sales > min_thresold)&(mart.Sales < max_thresold)]"
   ]
  },
  {
   "cell_type": "code",
   "execution_count": 11,
   "id": "bd619453",
   "metadata": {},
   "outputs": [
    {
     "data": {
      "text/plain": [
       "(6834, 19)"
      ]
     },
     "execution_count": 11,
     "metadata": {},
     "output_type": "execute_result"
    }
   ],
   "source": [
    "df_mart.shape"
   ]
  },
  {
   "cell_type": "code",
   "execution_count": 12,
   "id": "6e0048ed",
   "metadata": {
    "scrolled": false
   },
   "outputs": [
    {
     "data": {
      "image/png": "[encoded data removed]",
      "text/plain": [
       "<Figure size 432x288 with 1 Axes>"
      ]
     },
     "metadata": {
      "needs_background": "light"
     },
     "output_type": "display_data"
    }
   ],
   "source": [
    "f2=df_mart['Sales'].reset_index()\n",
    "_=plt.hist(f2.Sales)"
   ]
  },
  {
   "cell_type": "markdown",
   "id": "97794ed4",
   "metadata": {},
   "source": [
    "$Observation :$\n",
    "<b><i> The outliers have been handled, now the data set is clean."
   ]
  },
  {
   "cell_type": "markdown",
   "id": "dec7ad92",
   "metadata": {},
   "source": [
    "### Data Pre-processing"
   ]
  },
  {
   "cell_type": "markdown",
   "id": "24c0143f",
   "metadata": {},
   "source": [
    "$Label Encoder()$"
   ]
  },
  {
   "cell_type": "code",
   "execution_count": 13,
   "id": "8f31538a",
   "metadata": {},
   "outputs": [
    {
     "data": {
      "text/plain": [
       "Index(['Order ID', 'Customer Name', 'Product Name', 'Category', 'Sub-Category',\n",
       "       'Order Date', 'City', 'Country', 'Region', 'Segment', 'Ship Date',\n",
       "       'Ship Mode', 'State'],\n",
       "      dtype='object')"
      ]
     },
     "execution_count": 13,
     "metadata": {},
     "output_type": "execute_result"
    }
   ],
   "source": [
    "objcol=mart.select_dtypes(include='object').columns\n",
    "objcol"
   ]
  },
  {
   "cell_type": "code",
   "execution_count": 14,
   "id": "36e671ed",
   "metadata": {},
   "outputs": [],
   "source": [
    "from sklearn.preprocessing import LabelEncoder \n",
    "lb=LabelEncoder()\n",
    "df_mart['Order ID']=lb.fit_transform(df_mart['Order ID'])\n",
    "df_mart['Product Name']=lb.fit_transform(df_mart['Product Name'])\n",
    "df_mart['Category']=lb.fit_transform(df_mart['Category'])\n",
    "df_mart['Sub-Category']=lb.fit_transform(df_mart['Sub-Category'])\n",
    "df_mart['City']=lb.fit_transform(df_mart['City'])\n",
    "df_mart['Country']=lb.fit_transform(df_mart['Country'])\n",
    "df_mart['Region']=lb.fit_transform(df_mart['Region'])\n",
    "df_mart['Segment']=lb.fit_transform(df_mart['Segment'])\n",
    "df_mart['Ship Mode']=lb.fit_transform(df_mart['Ship Mode'])\n",
    "df_mart['State']=lb.fit_transform(df_mart['State'])"
   ]
  },
  {
   "cell_type": "markdown",
   "id": "f85a4016",
   "metadata": {},
   "source": [
    "$Standard Scaler()$"
   ]
  },
  {
   "cell_type": "code",
   "execution_count": 15,
   "id": "fcf32b6a",
   "metadata": {},
   "outputs": [],
   "source": [
    "from sklearn.preprocessing import StandardScaler\n",
    "scaler = StandardScaler()# Using Standard Scaler for standardization\n",
    "od=['Order ID','Product Name','City']\n",
    "df_mart[od]=scaler.fit_transform(df_mart[od])"
   ]
  },
  {
   "cell_type": "code",
   "execution_count": 16,
   "id": "1e202db3",
   "metadata": {
    "scrolled": true
   },
   "outputs": [
    {
     "data": {
      "text/html": [
       "<div>\n",
       "<style scoped>\n",
       "    .dataframe tbody tr th:only-of-type {\n",
       "        vertical-align: middle;\n",
       "    }\n",
       "\n",
       "    .dataframe tbody tr th {\n",
       "        vertical-align: top;\n",
       "    }\n",
       "\n",
       "    .dataframe thead th {\n",
       "        text-align: right;\n",
       "    }\n",
       "</style>\n",
       "<table border=\"1\" class=\"dataframe\">\n",
       "  <thead>\n",
       "    <tr style=\"text-align: right;\">\n",
       "      <th></th>\n",
       "      <th>Order ID</th>\n",
       "      <th>Customer Name</th>\n",
       "      <th>Product Name</th>\n",
       "      <th>Discount</th>\n",
       "      <th>Actual Discount</th>\n",
       "      <th>Sales</th>\n",
       "      <th>Quantity</th>\n",
       "      <th>Category</th>\n",
       "      <th>Sub-Category</th>\n",
       "      <th>Order Date</th>\n",
       "      <th>City</th>\n",
       "      <th>Country</th>\n",
       "      <th>Region</th>\n",
       "      <th>Segment</th>\n",
       "      <th>Ship Date</th>\n",
       "      <th>Days to Ship</th>\n",
       "      <th>Ship Mode</th>\n",
       "      <th>State</th>\n",
       "      <th>Profit</th>\n",
       "    </tr>\n",
       "  </thead>\n",
       "  <tbody>\n",
       "    <tr>\n",
       "      <th>0</th>\n",
       "      <td>1.059366</td>\n",
       "      <td>Ruby Patel</td>\n",
       "      <td>-0.385196</td>\n",
       "      <td>0.5</td>\n",
       "      <td>22.5</td>\n",
       "      <td>45</td>\n",
       "      <td>3</td>\n",
       "      <td>1</td>\n",
       "      <td>12</td>\n",
       "      <td>01-01-2013</td>\n",
       "      <td>1.156793</td>\n",
       "      <td>12</td>\n",
       "      <td>1</td>\n",
       "      <td>2</td>\n",
       "      <td>05-01-2013</td>\n",
       "      <td>4</td>\n",
       "      <td>1</td>\n",
       "      <td>103</td>\n",
       "      <td>-26</td>\n",
       "    </tr>\n",
       "    <tr>\n",
       "      <th>2</th>\n",
       "      <td>-1.463797</td>\n",
       "      <td>Devin Huddleston</td>\n",
       "      <td>-1.040114</td>\n",
       "      <td>0.0</td>\n",
       "      <td>0.0</td>\n",
       "      <td>140</td>\n",
       "      <td>3</td>\n",
       "      <td>1</td>\n",
       "      <td>2</td>\n",
       "      <td>04-01-2013</td>\n",
       "      <td>1.378689</td>\n",
       "      <td>4</td>\n",
       "      <td>0</td>\n",
       "      <td>0</td>\n",
       "      <td>08-01-2013</td>\n",
       "      <td>4</td>\n",
       "      <td>0</td>\n",
       "      <td>7</td>\n",
       "      <td>21</td>\n",
       "    </tr>\n",
       "    <tr>\n",
       "      <th>3</th>\n",
       "      <td>0.980287</td>\n",
       "      <td>Mary Parker</td>\n",
       "      <td>-1.016227</td>\n",
       "      <td>0.5</td>\n",
       "      <td>13.5</td>\n",
       "      <td>27</td>\n",
       "      <td>2</td>\n",
       "      <td>1</td>\n",
       "      <td>2</td>\n",
       "      <td>04-01-2013</td>\n",
       "      <td>-1.415022</td>\n",
       "      <td>14</td>\n",
       "      <td>1</td>\n",
       "      <td>1</td>\n",
       "      <td>09-01-2013</td>\n",
       "      <td>5</td>\n",
       "      <td>0</td>\n",
       "      <td>41</td>\n",
       "      <td>-22</td>\n",
       "    </tr>\n",
       "    <tr>\n",
       "      <th>4</th>\n",
       "      <td>0.980287</td>\n",
       "      <td>Mary Parker</td>\n",
       "      <td>-0.550419</td>\n",
       "      <td>0.5</td>\n",
       "      <td>8.5</td>\n",
       "      <td>17</td>\n",
       "      <td>2</td>\n",
       "      <td>1</td>\n",
       "      <td>14</td>\n",
       "      <td>04-01-2013</td>\n",
       "      <td>-1.415022</td>\n",
       "      <td>14</td>\n",
       "      <td>1</td>\n",
       "      <td>1</td>\n",
       "      <td>09-01-2013</td>\n",
       "      <td>5</td>\n",
       "      <td>0</td>\n",
       "      <td>41</td>\n",
       "      <td>-1</td>\n",
       "    </tr>\n",
       "    <tr>\n",
       "      <th>5</th>\n",
       "      <td>-1.489544</td>\n",
       "      <td>Daniel Burke</td>\n",
       "      <td>-1.052058</td>\n",
       "      <td>0.0</td>\n",
       "      <td>0.0</td>\n",
       "      <td>90</td>\n",
       "      <td>3</td>\n",
       "      <td>1</td>\n",
       "      <td>2</td>\n",
       "      <td>05-01-2013</td>\n",
       "      <td>-0.807535</td>\n",
       "      <td>4</td>\n",
       "      <td>0</td>\n",
       "      <td>2</td>\n",
       "      <td>07-01-2013</td>\n",
       "      <td>2</td>\n",
       "      <td>3</td>\n",
       "      <td>7</td>\n",
       "      <td>21</td>\n",
       "    </tr>\n",
       "  </tbody>\n",
       "</table>\n",
       "</div>"
      ],
      "text/plain": [
       "   Order ID     Customer Name  Product Name  Discount  Actual Discount  Sales  \\\n",
       "0  1.059366        Ruby Patel     -0.385196       0.5             22.5     45   \n",
       "2 -1.463797  Devin Huddleston     -1.040114       0.0              0.0    140   \n",
       "3  0.980287       Mary Parker     -1.016227       0.5             13.5     27   \n",
       "4  0.980287       Mary Parker     -0.550419       0.5              8.5     17   \n",
       "5 -1.489544      Daniel Burke     -1.052058       0.0              0.0     90   \n",
       "\n",
       "   Quantity  Category  Sub-Category  Order Date      City  Country  Region  \\\n",
       "0         3         1            12  01-01-2013  1.156793       12       1   \n",
       "2         3         1             2  04-01-2013  1.378689        4       0   \n",
       "3         2         1             2  04-01-2013 -1.415022       14       1   \n",
       "4         2         1            14  04-01-2013 -1.415022       14       1   \n",
       "5         3         1             2  05-01-2013 -0.807535        4       0   \n",
       "\n",
       "   Segment   Ship Date  Days to Ship  Ship Mode  State  Profit  \n",
       "0        2  05-01-2013             4          1    103     -26  \n",
       "2        0  08-01-2013             4          0      7      21  \n",
       "3        1  09-01-2013             5          0     41     -22  \n",
       "4        1  09-01-2013             5          0     41      -1  \n",
       "5        2  07-01-2013             2          3      7      21  "
      ]
     },
     "execution_count": 16,
     "metadata": {},
     "output_type": "execute_result"
    }
   ],
   "source": [
    "df_mart.head()"
   ]
  },
  {
   "cell_type": "markdown",
   "id": "3abc5c20",
   "metadata": {},
   "source": [
    "$Observation$:\n",
    "Now the data is preprocessed and ready split."
   ]
  },
  {
   "cell_type": "markdown",
   "id": "b4050e5a",
   "metadata": {},
   "source": [
    "### Spliting the into dependent variable and independent variable"
   ]
  },
  {
   "cell_type": "code",
   "execution_count": 17,
   "id": "ffc2f251",
   "metadata": {},
   "outputs": [],
   "source": [
    "x=df_mart.drop(['Profit','Ship Date','Customer Name','Order Date'],axis=1)\n",
    "y=df_mart['Profit']"
   ]
  },
  {
   "cell_type": "code",
   "execution_count": 18,
   "id": "034521cd",
   "metadata": {
    "scrolled": false
   },
   "outputs": [
    {
     "data": {
      "text/html": [
       "<div>\n",
       "<style scoped>\n",
       "    .dataframe tbody tr th:only-of-type {\n",
       "        vertical-align: middle;\n",
       "    }\n",
       "\n",
       "    .dataframe tbody tr th {\n",
       "        vertical-align: top;\n",
       "    }\n",
       "\n",
       "    .dataframe thead th {\n",
       "        text-align: right;\n",
       "    }\n",
       "</style>\n",
       "<table border=\"1\" class=\"dataframe\">\n",
       "  <thead>\n",
       "    <tr style=\"text-align: right;\">\n",
       "      <th></th>\n",
       "      <th>Order ID</th>\n",
       "      <th>Product Name</th>\n",
       "      <th>Discount</th>\n",
       "      <th>Actual Discount</th>\n",
       "      <th>Sales</th>\n",
       "      <th>Quantity</th>\n",
       "      <th>Category</th>\n",
       "      <th>Sub-Category</th>\n",
       "      <th>City</th>\n",
       "      <th>Country</th>\n",
       "      <th>Region</th>\n",
       "      <th>Segment</th>\n",
       "      <th>Days to Ship</th>\n",
       "      <th>Ship Mode</th>\n",
       "      <th>State</th>\n",
       "    </tr>\n",
       "  </thead>\n",
       "  <tbody>\n",
       "    <tr>\n",
       "      <th>0</th>\n",
       "      <td>1.059366</td>\n",
       "      <td>-0.385196</td>\n",
       "      <td>0.5</td>\n",
       "      <td>22.5</td>\n",
       "      <td>45</td>\n",
       "      <td>3</td>\n",
       "      <td>1</td>\n",
       "      <td>12</td>\n",
       "      <td>1.156793</td>\n",
       "      <td>12</td>\n",
       "      <td>1</td>\n",
       "      <td>2</td>\n",
       "      <td>4</td>\n",
       "      <td>1</td>\n",
       "      <td>103</td>\n",
       "    </tr>\n",
       "    <tr>\n",
       "      <th>2</th>\n",
       "      <td>-1.463797</td>\n",
       "      <td>-1.040114</td>\n",
       "      <td>0.0</td>\n",
       "      <td>0.0</td>\n",
       "      <td>140</td>\n",
       "      <td>3</td>\n",
       "      <td>1</td>\n",
       "      <td>2</td>\n",
       "      <td>1.378689</td>\n",
       "      <td>4</td>\n",
       "      <td>0</td>\n",
       "      <td>0</td>\n",
       "      <td>4</td>\n",
       "      <td>0</td>\n",
       "      <td>7</td>\n",
       "    </tr>\n",
       "    <tr>\n",
       "      <th>3</th>\n",
       "      <td>0.980287</td>\n",
       "      <td>-1.016227</td>\n",
       "      <td>0.5</td>\n",
       "      <td>13.5</td>\n",
       "      <td>27</td>\n",
       "      <td>2</td>\n",
       "      <td>1</td>\n",
       "      <td>2</td>\n",
       "      <td>-1.415022</td>\n",
       "      <td>14</td>\n",
       "      <td>1</td>\n",
       "      <td>1</td>\n",
       "      <td>5</td>\n",
       "      <td>0</td>\n",
       "      <td>41</td>\n",
       "    </tr>\n",
       "    <tr>\n",
       "      <th>4</th>\n",
       "      <td>0.980287</td>\n",
       "      <td>-0.550419</td>\n",
       "      <td>0.5</td>\n",
       "      <td>8.5</td>\n",
       "      <td>17</td>\n",
       "      <td>2</td>\n",
       "      <td>1</td>\n",
       "      <td>14</td>\n",
       "      <td>-1.415022</td>\n",
       "      <td>14</td>\n",
       "      <td>1</td>\n",
       "      <td>1</td>\n",
       "      <td>5</td>\n",
       "      <td>0</td>\n",
       "      <td>41</td>\n",
       "    </tr>\n",
       "    <tr>\n",
       "      <th>5</th>\n",
       "      <td>-1.489544</td>\n",
       "      <td>-1.052058</td>\n",
       "      <td>0.0</td>\n",
       "      <td>0.0</td>\n",
       "      <td>90</td>\n",
       "      <td>3</td>\n",
       "      <td>1</td>\n",
       "      <td>2</td>\n",
       "      <td>-0.807535</td>\n",
       "      <td>4</td>\n",
       "      <td>0</td>\n",
       "      <td>2</td>\n",
       "      <td>2</td>\n",
       "      <td>3</td>\n",
       "      <td>7</td>\n",
       "    </tr>\n",
       "  </tbody>\n",
       "</table>\n",
       "</div>"
      ],
      "text/plain": [
       "   Order ID  Product Name  Discount  Actual Discount  Sales  Quantity  \\\n",
       "0  1.059366     -0.385196       0.5             22.5     45         3   \n",
       "2 -1.463797     -1.040114       0.0              0.0    140         3   \n",
       "3  0.980287     -1.016227       0.5             13.5     27         2   \n",
       "4  0.980287     -0.550419       0.5              8.5     17         2   \n",
       "5 -1.489544     -1.052058       0.0              0.0     90         3   \n",
       "\n",
       "   Category  Sub-Category      City  Country  Region  Segment  Days to Ship  \\\n",
       "0         1            12  1.156793       12       1        2             4   \n",
       "2         1             2  1.378689        4       0        0             4   \n",
       "3         1             2 -1.415022       14       1        1             5   \n",
       "4         1            14 -1.415022       14       1        1             5   \n",
       "5         1             2 -0.807535        4       0        2             2   \n",
       "\n",
       "   Ship Mode  State  \n",
       "0          1    103  \n",
       "2          0      7  \n",
       "3          0     41  \n",
       "4          0     41  \n",
       "5          3      7  "
      ]
     },
     "execution_count": 18,
     "metadata": {},
     "output_type": "execute_result"
    }
   ],
   "source": [
    "x.head()"
   ]
  },
  {
   "cell_type": "code",
   "execution_count": 19,
   "id": "5d08712c",
   "metadata": {
    "scrolled": false
   },
   "outputs": [
    {
     "data": {
      "text/plain": [
       "0   -26\n",
       "2    21\n",
       "3   -22\n",
       "4    -1\n",
       "5    21\n",
       "Name: Profit, dtype: int64"
      ]
     },
     "execution_count": 19,
     "metadata": {},
     "output_type": "execute_result"
    }
   ],
   "source": [
    "y.head()"
   ]
  },
  {
   "cell_type": "markdown",
   "id": "8b77e8a3",
   "metadata": {},
   "source": [
    "$Observation$:\n",
    "<b> The data is split into a dependent variable and independent variables."
   ]
  },
  {
   "cell_type": "markdown",
   "id": "4cb11c45",
   "metadata": {},
   "source": [
    "### Splitting the data into train and test data."
   ]
  },
  {
   "cell_type": "code",
   "execution_count": 20,
   "id": "778e8c03",
   "metadata": {},
   "outputs": [],
   "source": [
    "from sklearn.model_selection import train_test_split\n",
    "x_train,x_test,y_train,y_test=train_test_split(x,y,test_size=0.50,random_state=42)"
   ]
  },
  {
   "cell_type": "code",
   "execution_count": 21,
   "id": "c277fef9",
   "metadata": {},
   "outputs": [
    {
     "data": {
      "text/plain": [
       "(3417, 15)"
      ]
     },
     "execution_count": 21,
     "metadata": {},
     "output_type": "execute_result"
    }
   ],
   "source": [
    "x_train.shape"
   ]
  },
  {
   "cell_type": "code",
   "execution_count": 22,
   "id": "ab4570b4",
   "metadata": {},
   "outputs": [
    {
     "data": {
      "text/plain": [
       "(3417, 15)"
      ]
     },
     "execution_count": 22,
     "metadata": {},
     "output_type": "execute_result"
    }
   ],
   "source": [
    "x_test.shape"
   ]
  },
  {
   "cell_type": "markdown",
   "id": "0d9e9db3",
   "metadata": {},
   "source": [
    "$Observation$:\n",
    "The data is splitted into train and test data."
   ]
  },
  {
   "cell_type": "code",
   "execution_count": 39,
   "id": "65dfedeb",
   "metadata": {},
   "outputs": [],
   "source": [
    "from sklearn.metrics import r2_score,mean_absolute_error,mean_squared_error\n",
    "from sklearn.metrics import classification_report,accuracy_score,confusion_matrix\n",
    "from sklearn.linear_model import LinearRegression,LogisticRegression,Lasso\n",
    "from sklearn.neighbors import KNeighborsRegressor"
   ]
  },
  {
   "cell_type": "code",
   "execution_count": 24,
   "id": "53cb803c",
   "metadata": {},
   "outputs": [],
   "source": [
    "def mscore(model):\n",
    "    print('model test score: ',model.score(x_test,y_test))\n",
    "    print('model train score: ',model.score(x_train,y_train))\n",
    "\n",
    "def metric(y_pred,y_test):\n",
    "    print('MAE: ',mean_absolute_error(y_pred,y_test))\n",
    "    print('MSE: ',mean_squared_error(y_pred,y_test))\n",
    "    print('R2score: ',r2_score(y_pred,y_test))"
   ]
  },
  {
   "cell_type": "markdown",
   "id": "fb50322b",
   "metadata": {},
   "source": [
    "#### Building Model"
   ]
  },
  {
   "cell_type": "code",
   "execution_count": 25,
   "id": "b7415a17",
   "metadata": {},
   "outputs": [
    {
     "name": "stdout",
     "output_type": "stream",
     "text": [
      "MAE:  21.53766461808604\n",
      "MSE:  1292.4049436640328\n",
      "R2score:  0.6410301245617269\n",
      "model test score:  0.6410301245617269\n",
      "model train score:  0.6523805237940035\n"
     ]
    }
   ],
   "source": [
    "knn=KNeighborsRegressor(n_neighbors=40,metric='manhattan')# KNeighbors Regressor\n",
    "knn.fit(x_train,y_train)\n",
    "y_pred_knn=knn.predict(x_test)\n",
    "metric(y_test,y_pred_knn)\n",
    "mscore(knn)# model evaluation metrics"
   ]
  },
  {
   "cell_type": "code",
   "execution_count": 26,
   "id": "b9b7ab68",
   "metadata": {
    "scrolled": true
   },
   "outputs": [
    {
     "name": "stdout",
     "output_type": "stream",
     "text": [
      "MAE:  21.241221413395554\n",
      "MSE:  1173.9442231912992\n",
      "R2score:  0.673932993187305\n",
      "model test score:  0.673932993187305\n",
      "model train score:  0.6641318314263602\n"
     ]
    }
   ],
   "source": [
    "lr=LinearRegression()# Linear Regression\n",
    "lr.fit(x_train,y_train)\n",
    "y_pred_lr=lr.predict(x_test)\n",
    "metric(y_test,y_pred_lr)\n",
    "mscore(lr)# model evaluation metrics"
   ]
  },
  {
   "cell_type": "code",
   "execution_count": 27,
   "id": "99aec3f9",
   "metadata": {},
   "outputs": [
    {
     "name": "stdout",
     "output_type": "stream",
     "text": [
      "MAE:  28.231782265144865\n",
      "MSE:  2318.683055311677\n",
      "R2score:  0.35597788322725776\n",
      "model test score:  0.030728709394205442\n",
      "model train score:  0.053263096283289436\n"
     ]
    }
   ],
   "source": [
    "lg=LogisticRegression()# Logistic Regression \n",
    "lg.fit(x_train,y_train)\n",
    "y_pred_lg=lg.predict(x_test)\n",
    "metric(y_test,y_pred_lg)\n",
    "mscore(lg)# model evaluation metrics"
   ]
  },
  {
   "cell_type": "markdown",
   "id": "d2e76949",
   "metadata": {},
   "source": [
    "### Saving The Best Model"
   ]
  },
  {
   "cell_type": "code",
   "execution_count": 28,
   "id": "682a4d97",
   "metadata": {},
   "outputs": [],
   "source": [
    "import pickle as pkl\n",
    "filename='linear_model.pkl'\n",
    "pkl.dump(lr,open(filename,'wb'))"
   ]
  },
  {
   "cell_type": "code",
   "execution_count": 29,
   "id": "e769e4a6",
   "metadata": {
    "scrolled": true
   },
   "outputs": [
    {
     "data": {
      "text/html": [
       "<div>\n",
       "<style scoped>\n",
       "    .dataframe tbody tr th:only-of-type {\n",
       "        vertical-align: middle;\n",
       "    }\n",
       "\n",
       "    .dataframe tbody tr th {\n",
       "        vertical-align: top;\n",
       "    }\n",
       "\n",
       "    .dataframe thead th {\n",
       "        text-align: right;\n",
       "    }\n",
       "</style>\n",
       "<table border=\"1\" class=\"dataframe\">\n",
       "  <thead>\n",
       "    <tr style=\"text-align: right;\">\n",
       "      <th></th>\n",
       "      <th>Order ID</th>\n",
       "      <th>Customer Name</th>\n",
       "      <th>Product Name</th>\n",
       "      <th>Discount</th>\n",
       "      <th>Actual Discount</th>\n",
       "      <th>Sales</th>\n",
       "      <th>Quantity</th>\n",
       "      <th>Category</th>\n",
       "      <th>Sub-Category</th>\n",
       "      <th>Order Date</th>\n",
       "      <th>City</th>\n",
       "      <th>Country</th>\n",
       "      <th>Region</th>\n",
       "      <th>Segment</th>\n",
       "      <th>Ship Date</th>\n",
       "      <th>Days to Ship</th>\n",
       "      <th>Ship Mode</th>\n",
       "      <th>State</th>\n",
       "      <th>Profit</th>\n",
       "    </tr>\n",
       "  </thead>\n",
       "  <tbody>\n",
       "    <tr>\n",
       "      <th>0</th>\n",
       "      <td>-0.049575</td>\n",
       "      <td>Joel Peters</td>\n",
       "      <td>-1.298896</td>\n",
       "      <td>0.15</td>\n",
       "      <td>17.4</td>\n",
       "      <td>116</td>\n",
       "      <td>2</td>\n",
       "      <td>2</td>\n",
       "      <td>13</td>\n",
       "      <td>17-09-2015</td>\n",
       "      <td>1.498731</td>\n",
       "      <td>4</td>\n",
       "      <td>0</td>\n",
       "      <td>2</td>\n",
       "      <td>22-09-2015</td>\n",
       "      <td>5</td>\n",
       "      <td>0</td>\n",
       "      <td>59</td>\n",
       "      <td>48</td>\n",
       "    </tr>\n",
       "    <tr>\n",
       "      <th>1</th>\n",
       "      <td>1.599124</td>\n",
       "      <td>Zachary Disher</td>\n",
       "      <td>-1.157561</td>\n",
       "      <td>0.00</td>\n",
       "      <td>0.0</td>\n",
       "      <td>148</td>\n",
       "      <td>5</td>\n",
       "      <td>1</td>\n",
       "      <td>2</td>\n",
       "      <td>27-08-2016</td>\n",
       "      <td>0.851231</td>\n",
       "      <td>7</td>\n",
       "      <td>2</td>\n",
       "      <td>0</td>\n",
       "      <td>01-09-2016</td>\n",
       "      <td>5</td>\n",
       "      <td>0</td>\n",
       "      <td>62</td>\n",
       "      <td>52</td>\n",
       "    </tr>\n",
       "    <tr>\n",
       "      <th>2</th>\n",
       "      <td>-1.545634</td>\n",
       "      <td>Nancy Fike</td>\n",
       "      <td>-1.067983</td>\n",
       "      <td>0.00</td>\n",
       "      <td>0.0</td>\n",
       "      <td>36</td>\n",
       "      <td>2</td>\n",
       "      <td>1</td>\n",
       "      <td>2</td>\n",
       "      <td>05-08-2013</td>\n",
       "      <td>-1.516876</td>\n",
       "      <td>13</td>\n",
       "      <td>0</td>\n",
       "      <td>0</td>\n",
       "      <td>10-08-2013</td>\n",
       "      <td>5</td>\n",
       "      <td>1</td>\n",
       "      <td>11</td>\n",
       "      <td>3</td>\n",
       "    </tr>\n",
       "    <tr>\n",
       "      <th>3</th>\n",
       "      <td>-1.261503</td>\n",
       "      <td>Hayden Perkins</td>\n",
       "      <td>1.629322</td>\n",
       "      <td>0.00</td>\n",
       "      <td>0.0</td>\n",
       "      <td>132</td>\n",
       "      <td>5</td>\n",
       "      <td>1</td>\n",
       "      <td>12</td>\n",
       "      <td>06-03-2014</td>\n",
       "      <td>1.404153</td>\n",
       "      <td>4</td>\n",
       "      <td>0</td>\n",
       "      <td>0</td>\n",
       "      <td>10-03-2014</td>\n",
       "      <td>4</td>\n",
       "      <td>1</td>\n",
       "      <td>59</td>\n",
       "      <td>26</td>\n",
       "    </tr>\n",
       "    <tr>\n",
       "      <th>4</th>\n",
       "      <td>0.903967</td>\n",
       "      <td>Cynthia Zielinski</td>\n",
       "      <td>1.611407</td>\n",
       "      <td>0.00</td>\n",
       "      <td>0.0</td>\n",
       "      <td>45</td>\n",
       "      <td>3</td>\n",
       "      <td>1</td>\n",
       "      <td>12</td>\n",
       "      <td>30-10-2016</td>\n",
       "      <td>-1.578716</td>\n",
       "      <td>4</td>\n",
       "      <td>0</td>\n",
       "      <td>2</td>\n",
       "      <td>03-11-2016</td>\n",
       "      <td>4</td>\n",
       "      <td>0</td>\n",
       "      <td>87</td>\n",
       "      <td>1</td>\n",
       "    </tr>\n",
       "  </tbody>\n",
       "</table>\n",
       "</div>"
      ],
      "text/plain": [
       "   Order ID      Customer Name  Product Name  Discount  Actual Discount  \\\n",
       "0 -0.049575        Joel Peters     -1.298896      0.15             17.4   \n",
       "1  1.599124     Zachary Disher     -1.157561      0.00              0.0   \n",
       "2 -1.545634         Nancy Fike     -1.067983      0.00              0.0   \n",
       "3 -1.261503     Hayden Perkins      1.629322      0.00              0.0   \n",
       "4  0.903967  Cynthia Zielinski      1.611407      0.00              0.0   \n",
       "\n",
       "   Sales  Quantity  Category  Sub-Category  Order Date      City  Country  \\\n",
       "0    116         2         2            13  17-09-2015  1.498731        4   \n",
       "1    148         5         1             2  27-08-2016  0.851231        7   \n",
       "2     36         2         1             2  05-08-2013 -1.516876       13   \n",
       "3    132         5         1            12  06-03-2014  1.404153        4   \n",
       "4     45         3         1            12  30-10-2016 -1.578716        4   \n",
       "\n",
       "   Region  Segment   Ship Date  Days to Ship  Ship Mode  State  Profit  \n",
       "0       0        2  22-09-2015             5          0     59      48  \n",
       "1       2        0  01-09-2016             5          0     62      52  \n",
       "2       0        0  10-08-2013             5          1     11       3  \n",
       "3       0        0  10-03-2014             4          1     59      26  \n",
       "4       0        2  03-11-2016             4          0     87       1  "
      ]
     },
     "execution_count": 29,
     "metadata": {},
     "output_type": "execute_result"
    }
   ],
   "source": [
    "sample=pd.read_csv('Sample_Data.csv')\n",
    "sample.head()"
   ]
  },
  {
   "cell_type": "code",
   "execution_count": 30,
   "id": "a6b4989f",
   "metadata": {},
   "outputs": [],
   "source": [
    "x1=sample.drop(['Customer Name','Order Date','Ship Date','Profit'],axis=1)\n",
    "y2=sample['Profit']"
   ]
  },
  {
   "cell_type": "code",
   "execution_count": 31,
   "id": "434e690c",
   "metadata": {
    "scrolled": true
   },
   "outputs": [
    {
     "name": "stdout",
     "output_type": "stream",
     "text": [
      "MAE:  17.07240667072583\n",
      "MSE:  614.6283255309493\n",
      "R2score:  0.5913776238494235\n"
     ]
    }
   ],
   "source": [
    "lrs=pkl.load(open('linear_model.pkl','rb'))\n",
    "y_pred=lrs.predict(x1)\n",
    "metric(y2,y_pred)"
   ]
  }
 ],
 "metadata": {
  "kernelspec": {
   "display_name": "Python 3 (ipykernel)",
   "language": "python",
   "name": "python3"
  },
  "language_info": {
   "codemirror_mode": {
    "name": "ipython",
    "version": 3
   },
   "file_extension": ".py",
   "mimetype": "text/x-python",
   "name": "python",
   "nbconvert_exporter": "python",
   "pygments_lexer": "ipython3",
   "version": "3.9.7"
  }
 },
 "nbformat": 4,
 "nbformat_minor": 5
}
